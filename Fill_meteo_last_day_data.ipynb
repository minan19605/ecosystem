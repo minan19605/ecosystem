{
 "cells": [
  {
   "cell_type": "markdown",
   "id": "b1c50ddd",
   "metadata": {},
   "source": [
    "### Meteo data, last day 2021-12-31 empty, use the 12-30 data to fill it"
   ]
  },
  {
   "cell_type": "code",
   "execution_count": null,
   "id": "2a5bac36",
   "metadata": {},
   "outputs": [],
   "source": [
    "import os\n",
    "import glob\n",
    "import numpy as np\n",
    "import pandas as pd"
   ]
  },
  {
   "cell_type": "code",
   "execution_count": null,
   "id": "255d1cc5",
   "metadata": {},
   "outputs": [],
   "source": [
    "src_dir = './meteo_data/'\n",
    "meteo_dir = src_dir + 'Merged/'"
   ]
  },
  {
   "cell_type": "code",
   "execution_count": null,
   "id": "ab1ef339",
   "metadata": {},
   "outputs": [],
   "source": [
    "meteo_files = glob.glob(meteo_dir+'*.csv')\n"
   ]
  },
  {
   "cell_type": "code",
   "execution_count": null,
   "id": "bf5edd82",
   "metadata": {},
   "outputs": [],
   "source": [
    "len(meteo_files)"
   ]
  },
  {
   "cell_type": "code",
   "execution_count": null,
   "id": "7bdfc8b6",
   "metadata": {},
   "outputs": [],
   "source": [
    "meteo_files.sort()"
   ]
  },
  {
   "cell_type": "code",
   "execution_count": null,
   "id": "256e390e",
   "metadata": {},
   "outputs": [],
   "source": [
    "meteo_files"
   ]
  },
  {
   "cell_type": "code",
   "execution_count": null,
   "id": "92393426",
   "metadata": {},
   "outputs": [],
   "source": [
    "for csv_file in meteo_files:\n",
    "    df = pd.read_csv(csv_file,dtype={'Year':int,'DOY':int,'Month':int,'Day':int,'Hour':int})\n",
    "    i = -24\n",
    "    while (i< 0):\n",
    "        row = df.iloc[i]\n",
    "        if row.isnull().sum() == 8:\n",
    "            break\n",
    "        i += 1\n",
    "\n",
    "    if i< 0: #exist empty rows\n",
    "        j = i + (-24) # get last day records\n",
    "\n",
    "    while (i < 0):\n",
    "        df.iloc[i,6:] = df.iloc[j, 6:]\n",
    "        i += 1\n",
    "        j += 1\n",
    "        \n",
    "    df.to_csv(csv_file,index=False)\n",
    "    print(csv_file)"
   ]
  },
  {
   "cell_type": "markdown",
   "id": "a8343a3d",
   "metadata": {},
   "source": [
    "### befow are for debug"
   ]
  },
  {
   "cell_type": "code",
   "execution_count": null,
   "id": "f78853ff",
   "metadata": {},
   "outputs": [],
   "source": [
    "df.tail(48)"
   ]
  },
  {
   "cell_type": "code",
   "execution_count": null,
   "id": "76273e77",
   "metadata": {},
   "outputs": [],
   "source": [
    "row = df.iloc[-24]\n",
    "row.isnull().sum()"
   ]
  },
  {
   "cell_type": "code",
   "execution_count": null,
   "id": "dab5bee9",
   "metadata": {},
   "outputs": [],
   "source": [
    "df.iloc[j, 6:]"
   ]
  },
  {
   "cell_type": "code",
   "execution_count": null,
   "id": "1b870e4b",
   "metadata": {},
   "outputs": [],
   "source": [
    "i = -24\n",
    "while (i< 0):\n",
    "    row = df.iloc[i]\n",
    "    if row.isnull().sum() == 8:\n",
    "        break\n",
    "    i += 1\n",
    "    \n",
    "if i< 0: #exist empty rows\n",
    "    j = i + (-24) # get last day records\n",
    "    \n",
    "while (i < 0):\n",
    "    df.iloc[i,6:] = df.iloc[j, 6:]\n",
    "    i += 1\n",
    "    j += 1"
   ]
  },
  {
   "cell_type": "code",
   "execution_count": null,
   "id": "45cd8157",
   "metadata": {},
   "outputs": [],
   "source": []
  }
 ],
 "metadata": {
  "kernelspec": {
   "display_name": "Python 3 (ipykernel)",
   "language": "python",
   "name": "python3"
  },
  "language_info": {
   "codemirror_mode": {
    "name": "ipython",
    "version": 3
   },
   "file_extension": ".py",
   "mimetype": "text/x-python",
   "name": "python",
   "nbconvert_exporter": "python",
   "pygments_lexer": "ipython3",
   "version": "3.7.16"
  }
 },
 "nbformat": 4,
 "nbformat_minor": 5
}
