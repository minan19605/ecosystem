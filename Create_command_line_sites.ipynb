{
 "cells": [
  {
   "cell_type": "code",
   "execution_count": 1,
   "id": "4efb947f",
   "metadata": {},
   "outputs": [],
   "source": [
    "import os\n",
    "import glob\n",
    "import pickle"
   ]
  },
  {
   "cell_type": "code",
   "execution_count": 2,
   "id": "8a6678ed",
   "metadata": {},
   "outputs": [],
   "source": [
    "src_dir = './output/'\n",
    "qcv_dir = '/01_qc_visual/qcv_files/'\n",
    "era_dir = '/06_meteo_era/'"
   ]
  },
  {
   "cell_type": "code",
   "execution_count": 3,
   "id": "840dc65b",
   "metadata": {},
   "outputs": [
    {
     "data": {
      "text/plain": [
       "['US-Syv',\n",
       " 'US-CC2',\n",
       " 'US-MC1',\n",
       " 'US-Kon',\n",
       " 'US-Dk3',\n",
       " 'US-Bo2',\n",
       " 'US-CRT',\n",
       " 'US-TrS',\n",
       " 'US-Wi1',\n",
       " 'US-DFK',\n",
       " 'US-SRG',\n",
       " 'US-DPW',\n",
       " 'US-PFf',\n",
       " 'CA-TP3',\n",
       " 'US-MOz',\n",
       " 'US-UiA',\n",
       " 'US-GLE',\n",
       " 'US-PSH',\n",
       " 'US-PFh',\n",
       " 'US-MtB',\n",
       " 'US-CF2',\n",
       " 'US-MVF',\n",
       " 'US-Jo1',\n",
       " 'US-Ho3',\n",
       " 'US-Mi3',\n",
       " 'US-MMS',\n",
       " 'CA-TP2',\n",
       " 'US-Lin',\n",
       " 'US-Wi3',\n",
       " 'US-Ne1',\n",
       " 'US-Dia',\n",
       " 'US-PHM',\n",
       " 'US-PFa',\n",
       " 'US-Ha2',\n",
       " 'US-RGo',\n",
       " 'US-Pnp',\n",
       " 'US-JRn',\n",
       " 'US-Ho2',\n",
       " 'US-Bi1',\n",
       " 'CA-MA1',\n",
       " 'US-Fuf',\n",
       " 'US-MVW',\n",
       " 'US-KFS',\n",
       " 'US-Oho',\n",
       " 'US-Mpj',\n",
       " 'US-SP2',\n",
       " 'US-Blo',\n",
       " 'CA-DB2',\n",
       " 'US-AR1',\n",
       " 'US-Akn',\n",
       " 'US-PFd',\n",
       " 'US-NR1',\n",
       " 'US-CS5',\n",
       " 'US-Vcp',\n",
       " 'US-Rms',\n",
       " 'US-Rwf',\n",
       " 'CA-MA3',\n",
       " 'CA-ARB',\n",
       " 'US-TrB',\n",
       " 'US-PFc',\n",
       " 'MX-Aog',\n",
       " 'US-Mj1',\n",
       " 'US-CF4',\n",
       " 'US-DS3',\n",
       " 'US-Vcm',\n",
       " 'US-NC4',\n",
       " 'US-Vcs',\n",
       " 'US-Ro5',\n",
       " 'US-CS3',\n",
       " 'US-RGA',\n",
       " 'US-Tw3',\n",
       " 'US-ASM',\n",
       " 'US-Sne',\n",
       " 'US-Jo2',\n",
       " 'US-ORv',\n",
       " 'US-KS1',\n",
       " 'US-SP4',\n",
       " 'US-KM4',\n",
       " 'CA-TP4',\n",
       " 'US-ARM',\n",
       " 'CA-TP1',\n",
       " 'US-KUT',\n",
       " 'US-Esm',\n",
       " 'US-NR4',\n",
       " 'US-CC1',\n",
       " 'US-MC2',\n",
       " 'US-Twt',\n",
       " 'US-Myb',\n",
       " 'US-Ho1',\n",
       " 'US-PFk',\n",
       " 'US-CPk',\n",
       " 'US-Act',\n",
       " 'US-PFL',\n",
       " 'US-ALQ',\n",
       " 'US-DFC',\n",
       " 'US-Slt',\n",
       " 'US-PFn',\n",
       " 'US-Wi2',\n",
       " 'US-Tw2',\n",
       " 'US-Dk1',\n",
       " 'US-Tur',\n",
       " 'US-Bi2',\n",
       " 'US-Me2',\n",
       " 'US-Ne3',\n",
       " 'US-CS1',\n",
       " 'CA-ARF',\n",
       " 'US-KLS',\n",
       " 'US-Ro1',\n",
       " 'US-Bo1',\n",
       " 'US-BMM',\n",
       " 'US-Bsg',\n",
       " 'US-PFo',\n",
       " 'US-CF1',\n",
       " 'US-SRM',\n",
       " 'US-HRA',\n",
       " 'US-PFt',\n",
       " 'CA-TPD',\n",
       " 'US-CdM',\n",
       " 'US-Ne2',\n",
       " 'US-KS2',\n",
       " 'CA-MA2',\n",
       " 'US-NC1',\n",
       " 'US-Ro6',\n",
       " 'US-KL1',\n",
       " 'US-A74',\n",
       " 'US-PFe',\n",
       " 'CA-Na1',\n",
       " 'US-KL2',\n",
       " 'US-UM3',\n",
       " 'US-CMW',\n",
       " 'US-EDN',\n",
       " 'US-Fwf',\n",
       " 'US-PFr',\n",
       " 'US-HB3',\n",
       " 'US-HBK',\n",
       " 'US-Me6',\n",
       " 'US-LS1',\n",
       " 'US-SdH',\n",
       " 'US-Tw5',\n",
       " 'US-Rwe',\n",
       " 'US-Ced',\n",
       " 'US-PFs',\n",
       " 'US-GBT',\n",
       " 'US-HRC',\n",
       " 'US-LL3',\n",
       " 'US-LL1',\n",
       " 'US-PFg',\n",
       " 'US-SRC',\n",
       " 'US-KS3',\n",
       " 'US-BRG',\n",
       " 'US-Ro3',\n",
       " 'US-PFj',\n",
       " 'US-StJ',\n",
       " 'US-Wi4',\n",
       " 'US-ONA',\n",
       " 'US-Hsm',\n",
       " 'US-RGW',\n",
       " 'US-Ses',\n",
       " 'US-Rls',\n",
       " 'US-Snd',\n",
       " 'US-CS4',\n",
       " 'US-UC1',\n",
       " 'US-Los',\n",
       " 'US-Var',\n",
       " 'US-Whs',\n",
       " 'US-UMB',\n",
       " 'US-KM3',\n",
       " 'US-NR3',\n",
       " 'US-KM2',\n",
       " 'US-Ha1',\n",
       " 'US-KM1',\n",
       " 'US-UiB',\n",
       " 'US-NC2',\n",
       " 'US-LS2',\n",
       " 'US-WCr',\n",
       " 'US-Mi1',\n",
       " 'US-Cop',\n",
       " 'US-RGB',\n",
       " 'US-Hn2',\n",
       " 'US-Tw1',\n",
       " 'US-PFb',\n",
       " 'US-ASH',\n",
       " 'CA-Ca3',\n",
       " 'US-PFm',\n",
       " 'US-MH1',\n",
       " 'US-PFq',\n",
       " 'CA-ER1',\n",
       " 'US-SP1',\n",
       " 'US-HB2',\n",
       " 'US-Hn3',\n",
       " 'US-LL2',\n",
       " 'US-PFi',\n",
       " 'US-Srr',\n",
       " 'US-Ro4',\n",
       " 'US-MH2',\n",
       " 'US-HB1',\n",
       " 'US-SP3',\n",
       " 'US-Snf',\n",
       " 'US-Dix',\n",
       " 'US-SRS',\n",
       " 'US-Mi2',\n",
       " 'US-Rws',\n",
       " 'US-OWC',\n",
       " 'US-Wi5',\n",
       " 'US-Men',\n",
       " 'US-HWB',\n",
       " 'US-UMd',\n",
       " 'MX-Tes',\n",
       " 'US-PFp',\n",
       " 'US-ASL',\n",
       " 'US-KL3',\n",
       " 'US-NMj',\n",
       " 'US-Tw4',\n",
       " 'US-CF3',\n",
       " 'US-Ton',\n",
       " 'US-Bar',\n",
       " 'US-Ro2',\n",
       " 'US-Seg',\n",
       " 'US-Mj2',\n",
       " 'US-MSR',\n",
       " 'US-AR2',\n",
       " 'CA-Cbo',\n",
       " 'CA-Cha',\n",
       " 'US-Dk2',\n",
       " 'US-NC3',\n",
       " 'US-UC2',\n",
       " 'US-Wi0',\n",
       " 'US-PSL',\n",
       " 'US-Fmf',\n",
       " 'US-CS2',\n",
       " 'US-UiC',\n",
       " 'US-SSH',\n",
       " 'US-Elm',\n",
       " 'CA-DBB',\n",
       " 'US-PAS',\n",
       " 'US-A32']"
      ]
     },
     "execution_count": 3,
     "metadata": {},
     "output_type": "execute_result"
    }
   ],
   "source": [
    "for sub_dir_list in os.walk(src_dir):\n",
    "    break\n",
    "\n",
    "sub_dir_list[1]"
   ]
  },
  {
   "cell_type": "code",
   "execution_count": 4,
   "id": "75775599",
   "metadata": {},
   "outputs": [],
   "source": [
    "_tmp = sub_dir_list[1].copy()\n",
    "_tmp.sort()\n",
    "with open('site_list.pkl', 'wb') as f:  # open a text file\n",
    "    pickle.dump(_tmp, f) "
   ]
  },
  {
   "cell_type": "code",
   "execution_count": 5,
   "id": "c8deb43b",
   "metadata": {},
   "outputs": [
    {
     "data": {
      "text/plain": [
       "100"
      ]
     },
     "execution_count": 5,
     "metadata": {},
     "output_type": "execute_result"
    }
   ],
   "source": [
    "len(_tmp)"
   ]
  },
  {
   "cell_type": "markdown",
   "id": "10951e8a",
   "metadata": {},
   "source": [
    "### create command line for each site:\n",
    "#### the command example:\n",
    "#### python runoneflux.py all \"../../ameri_flux/output/\" US-PFa \"US-PFa\" 1995 2021 -l fluxnet_pipeline_US-PFa.log --mcr /usr/local/MATLAB/MATLAB_Runtime/v94/ --recint hh --era-fy 1980 --era-ly 2021"
   ]
  },
  {
   "cell_type": "code",
   "execution_count": null,
   "id": "9cd9084e",
   "metadata": {},
   "outputs": [],
   "source": [
    "sub_dir_list[1].remove('US-Ro2')\n",
    "sub_dir_list[1].remove('US-xYE')\n",
    "sub_dir_list[1].remove('CA-DBB')"
   ]
  },
  {
   "cell_type": "code",
   "execution_count": null,
   "id": "e6e37bfc",
   "metadata": {},
   "outputs": [],
   "source": [
    "cmd_txt = 'python runoneflux.py all \"../../ameri_flux/output/\" {site_name} \"{site_name}\" {qcv_start_year} {qcv_end_year} \\\n",
    "-l fluxnet_pipeline_{site_name}.log --mcr /usr/local/MATLAB/MATLAB_Runtime/v94/ --recint hh \\\n",
    "--era-fy 1980 --era-ly 2021'"
   ]
  },
  {
   "cell_type": "code",
   "execution_count": 4,
   "id": "f3b86164",
   "metadata": {},
   "outputs": [],
   "source": [
    "msi_txt = 'python runoneflux.py all \"../ameri_flux/output/\" {site_name} \"{site_name}\" {qcv_start_year} {qcv_end_year} \\\n",
    "-l fluxnet_pipeline_{site_name}.log --mcr ~/bin/MATLAB/MATLAB_Runtime/v94/ --recint hh \\\n",
    "--era-fy 1980 --era-ly 2021'"
   ]
  },
  {
   "cell_type": "code",
   "execution_count": 5,
   "id": "bea560d2",
   "metadata": {},
   "outputs": [
    {
     "ename": "IndexError",
     "evalue": "list index out of range",
     "output_type": "error",
     "traceback": [
      "\u001b[0;31m---------------------------------------------------------------------------\u001b[0m",
      "\u001b[0;31mIndexError\u001b[0m                                Traceback (most recent call last)",
      "\u001b[0;32m/tmp/ipykernel_130681/2985288082.py\u001b[0m in \u001b[0;36m<module>\u001b[0;34m\u001b[0m\n\u001b[1;32m     12\u001b[0m \u001b[0;34m\u001b[0m\u001b[0m\n\u001b[1;32m     13\u001b[0m     \u001b[0myears\u001b[0m\u001b[0;34m.\u001b[0m\u001b[0msort\u001b[0m\u001b[0;34m(\u001b[0m\u001b[0;34m)\u001b[0m\u001b[0;34m\u001b[0m\u001b[0;34m\u001b[0m\u001b[0m\n\u001b[0;32m---> 14\u001b[0;31m     \u001b[0mlast_year\u001b[0m \u001b[0;34m=\u001b[0m \u001b[0myears\u001b[0m\u001b[0;34m[\u001b[0m\u001b[0;34m-\u001b[0m\u001b[0;36m1\u001b[0m\u001b[0;34m]\u001b[0m\u001b[0;34m\u001b[0m\u001b[0;34m\u001b[0m\u001b[0m\n\u001b[0m\u001b[1;32m     15\u001b[0m     \u001b[0;32mif\u001b[0m \u001b[0mlast_year\u001b[0m \u001b[0;34m>\u001b[0m \u001b[0;36m2021\u001b[0m\u001b[0;34m:\u001b[0m\u001b[0;34m\u001b[0m\u001b[0;34m\u001b[0m\u001b[0m\n\u001b[1;32m     16\u001b[0m         \u001b[0mlast_year\u001b[0m \u001b[0;34m=\u001b[0m \u001b[0;36m2021\u001b[0m\u001b[0;34m\u001b[0m\u001b[0;34m\u001b[0m\u001b[0m\n",
      "\u001b[0;31mIndexError\u001b[0m: list index out of range"
     ]
    }
   ],
   "source": [
    "cmd_lines = dict()\n",
    "for sub_dir in sub_dir_list[1]:\n",
    "    site_name = sub_dir\n",
    "    \n",
    "    full_qcv_dir = src_dir + site_name + qcv_dir\n",
    "    qcv_file_list = glob.glob(full_qcv_dir + '*.csv')\n",
    "    years = []\n",
    "    for qcv_file in qcv_file_list:\n",
    "        qcv_name = os.path.basename(qcv_file)\n",
    "        year = qcv_name.split('.')[0][-4:]\n",
    "        years.append(int(year))\n",
    "        \n",
    "    years.sort()\n",
    "    last_year = years[-1]\n",
    "    if last_year > 2021:\n",
    "        last_year = 2021\n",
    "    \n",
    "    first_year = years[0]\n",
    "    #cmd_line = cmd_txt.format(site_name=site_name, qcv_start_year = first_year, qcv_end_year=last_year)\n",
    "    cmd_line = msi_txt.format(site_name=site_name, qcv_start_year = first_year, qcv_end_year=last_year)\n",
    "    cmd_lines[site_name] = cmd_line\n",
    "\n",
    "print(\"Done!\")"
   ]
  },
  {
   "cell_type": "code",
   "execution_count": 7,
   "id": "172a28c9",
   "metadata": {},
   "outputs": [
    {
     "name": "stdout",
     "output_type": "stream",
     "text": [
      "Done!\n"
     ]
    }
   ],
   "source": [
    "site_cmds = dict()\n",
    "\n",
    "for sub_dir in _tmp:\n",
    "    site_name = sub_dir\n",
    "    \n",
    "    full_qcv_dir = src_dir + site_name + qcv_dir\n",
    "    qcv_file_list = glob.glob(full_qcv_dir + '*.csv')\n",
    "    years = []\n",
    "    for qcv_file in qcv_file_list:\n",
    "        qcv_name = os.path.basename(qcv_file)\n",
    "        year = qcv_name.split('.')[0][-4:]\n",
    "        years.append(int(year))\n",
    "        \n",
    "    years.sort()\n",
    "    last_year = years[-1]\n",
    "    if last_year > 2021:\n",
    "        last_year = 2021\n",
    "    \n",
    "    first_year = years[0]\n",
    "    #cmd_line = cmd_txt.format(site_name=site_name, qcv_start_year = first_year, qcv_end_year=last_year)\n",
    "    cmd_line = msi_txt.format(site_name=site_name, qcv_start_year = first_year, qcv_end_year=last_year)\n",
    "    site_cmds[site_name] = cmd_line\n",
    "\n",
    "print(\"Done!\")"
   ]
  },
  {
   "cell_type": "code",
   "execution_count": 8,
   "id": "c62bdebf",
   "metadata": {},
   "outputs": [],
   "source": [
    "with open('site_cmd_list.pkl', 'wb') as f:  # open a text file\n",
    "    pickle.dump(site_cmds, f) "
   ]
  },
  {
   "cell_type": "code",
   "execution_count": 9,
   "id": "1df42d93",
   "metadata": {},
   "outputs": [
    {
     "data": {
      "text/plain": [
       "'python runoneflux.py all \"../ameri_flux/output/\" US-PFL \"US-PFL\" 2019 2019 -l fluxnet_pipeline_US-PFL.log --mcr ~/bin/MATLAB/MATLAB_Runtime/v94/ --recint hh --era-fy 1980 --era-ly 2021'"
      ]
     },
     "execution_count": 9,
     "metadata": {},
     "output_type": "execute_result"
    }
   ],
   "source": [
    "site_cmds['US-PFL']"
   ]
  },
  {
   "cell_type": "code",
   "execution_count": null,
   "id": "4110c391",
   "metadata": {},
   "outputs": [],
   "source": [
    "#cmd_lines_file = 'sites_cmd_lines.txt'\n",
    "cmd_lines_file = 'msi_cmd_lines.txt'\n",
    "with open(cmd_lines_file,'w') as f:\n",
    "    f.write('\\n'.join(cmd_lines))\n",
    "#     f.write('\\n')\n",
    "#     f.write(text)"
   ]
  },
  {
   "cell_type": "code",
   "execution_count": null,
   "id": "e589d65c",
   "metadata": {},
   "outputs": [],
   "source": [
    "#cmd_lines_file = 'sites_cmd_lines.txt'\n",
    "_lines = []\n",
    "with open(cmd_lines_file,'r') as f:\n",
    "    for line in f:\n",
    "        _lines.append(line)"
   ]
  },
  {
   "cell_type": "code",
   "execution_count": null,
   "id": "dae39a59",
   "metadata": {},
   "outputs": [],
   "source": [
    "len(_lines)"
   ]
  },
  {
   "cell_type": "code",
   "execution_count": null,
   "id": "393204e5",
   "metadata": {},
   "outputs": [],
   "source": [
    "_lines"
   ]
  },
  {
   "cell_type": "code",
   "execution_count": 6,
   "id": "6a9c35e6",
   "metadata": {},
   "outputs": [
    {
     "data": {
      "text/plain": [
       "{'su': 'hello su', 'yu': 'hello ye'}"
      ]
     },
     "execution_count": 6,
     "metadata": {},
     "output_type": "execute_result"
    }
   ],
   "source": [
    "tst = dict()\n",
    "tst['su'] = 'hello su'\n",
    "tst['yu'] = 'hello ye'\n",
    "tst"
   ]
  },
  {
   "cell_type": "code",
   "execution_count": 7,
   "id": "d2cea8d0",
   "metadata": {},
   "outputs": [
    {
     "data": {
      "text/plain": [
       "2"
      ]
     },
     "execution_count": 7,
     "metadata": {},
     "output_type": "execute_result"
    }
   ],
   "source": [
    "len(tst)"
   ]
  }
 ],
 "metadata": {
  "kernelspec": {
   "display_name": "Python 3 (ipykernel)",
   "language": "python",
   "name": "python3"
  },
  "language_info": {
   "codemirror_mode": {
    "name": "ipython",
    "version": 3
   },
   "file_extension": ".py",
   "mimetype": "text/x-python",
   "name": "python",
   "nbconvert_exporter": "python",
   "pygments_lexer": "ipython3",
   "version": "3.7.16"
  }
 },
 "nbformat": 4,
 "nbformat_minor": 5
}
