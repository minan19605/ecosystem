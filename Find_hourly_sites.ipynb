{
 "cells": [
  {
   "cell_type": "markdown",
   "id": "97a205db",
   "metadata": {},
   "source": [
    "### Scan Ameri sites, to find hourly records site.\n",
    "### most sites are half hour records, a few sites are hourly records."
   ]
  },
  {
   "cell_type": "code",
   "execution_count": 1,
   "id": "6c687dee",
   "metadata": {},
   "outputs": [],
   "source": [
    "import os\n",
    "import pandas as pd\n",
    "import numpy as np\n",
    "import glob\n",
    "import pickle\n",
    "# importing required modules\n",
    "from zipfile import ZipFile"
   ]
  },
  {
   "cell_type": "code",
   "execution_count": 2,
   "id": "53e18d2a",
   "metadata": {},
   "outputs": [],
   "source": [
    "zip_dir = './ameri_data/'\n",
    "all_zipfiles = glob.glob(zip_dir + \"*.zip\")"
   ]
  },
  {
   "cell_type": "code",
   "execution_count": 3,
   "id": "94a7ae50",
   "metadata": {},
   "outputs": [],
   "source": [
    "hourly_site_list = []"
   ]
  },
  {
   "cell_type": "code",
   "execution_count": 5,
   "id": "400ffe6f",
   "metadata": {},
   "outputs": [
    {
     "name": "stderr",
     "output_type": "stream",
     "text": [
      "/home/minan/anaconda3/envs/oneflux/lib/python3.7/site-packages/IPython/core/interactiveshell.py:3553: DtypeWarning: Columns (22,23,24) have mixed types.Specify dtype option on import or set low_memory=False.\n",
      "  exec(code_obj, self.user_global_ns, self.user_ns)\n",
      "/home/minan/anaconda3/envs/oneflux/lib/python3.7/site-packages/IPython/core/interactiveshell.py:3553: DtypeWarning: Columns (5,8,18,21) have mixed types.Specify dtype option on import or set low_memory=False.\n",
      "  exec(code_obj, self.user_global_ns, self.user_ns)\n",
      "/home/minan/anaconda3/envs/oneflux/lib/python3.7/site-packages/IPython/core/interactiveshell.py:3553: DtypeWarning: Columns (14,25,26,30,32,36,38) have mixed types.Specify dtype option on import or set low_memory=False.\n",
      "  exec(code_obj, self.user_global_ns, self.user_ns)\n",
      "/home/minan/anaconda3/envs/oneflux/lib/python3.7/site-packages/IPython/core/interactiveshell.py:3553: DtypeWarning: Columns (38) have mixed types.Specify dtype option on import or set low_memory=False.\n",
      "  exec(code_obj, self.user_global_ns, self.user_ns)\n",
      "/home/minan/anaconda3/envs/oneflux/lib/python3.7/site-packages/IPython/core/interactiveshell.py:3553: DtypeWarning: Columns (29,38) have mixed types.Specify dtype option on import or set low_memory=False.\n",
      "  exec(code_obj, self.user_global_ns, self.user_ns)\n",
      "/home/minan/anaconda3/envs/oneflux/lib/python3.7/site-packages/IPython/core/interactiveshell.py:3553: DtypeWarning: Columns (22) have mixed types.Specify dtype option on import or set low_memory=False.\n",
      "  exec(code_obj, self.user_global_ns, self.user_ns)\n",
      "/home/minan/anaconda3/envs/oneflux/lib/python3.7/site-packages/IPython/core/interactiveshell.py:3553: DtypeWarning: Columns (21,22,23,24,25,26) have mixed types.Specify dtype option on import or set low_memory=False.\n",
      "  exec(code_obj, self.user_global_ns, self.user_ns)\n"
     ]
    }
   ],
   "source": [
    "for zip_file in all_zipfiles:\n",
    "    #if zip_file in processed_list:\n",
    "    #    continue\n",
    "        \n",
    "    #if zip_file in bad_list:\n",
    "    #    continue\n",
    "    \n",
    "    \n",
    "    file_name = os.path.basename(zip_file)\n",
    "\n",
    "    \n",
    "    file_name = file_name.split('.')[0]\n",
    "    site_name = file_name.split('_')[1]\n",
    "    \n",
    "    #site_info = pd_site[pd_site['site_id'] == site_name]\n",
    "    \n",
    "    with ZipFile(zip_file, 'r') as zip_folder:\n",
    "        file_list = zip_folder.namelist()\n",
    "        if len(file_list) > 1:\n",
    "            for _file in file_list:\n",
    "                name_split = _file.split('.')\n",
    "\n",
    "                if name_split[1] == 'csv':\n",
    "                    df = pd.read_csv(zip_folder.open(_file),dtype={'TIMESTAMP_START':str, 'TIMESTAMP_END':str},skiprows=2)\n",
    "                    if df.iloc[0]['TIMESTAMP_END'][-4:] == '0030':\n",
    "                        record_interval = 'halfhourly'\n",
    "                    else:\n",
    "                        record_interval = 'hourly'\n",
    "                        hourly_site_list.append(site_name)\n",
    "                        \n",
    "                        \n"
   ]
  },
  {
   "cell_type": "code",
   "execution_count": 7,
   "id": "151824bd",
   "metadata": {},
   "outputs": [],
   "source": [
    "\n",
    "pickle.dump( hourly_site_list, open( \"hourly_site_list.pkl\", \"wb\" ) )"
   ]
  },
  {
   "cell_type": "code",
   "execution_count": 8,
   "id": "2be7fa4a",
   "metadata": {},
   "outputs": [],
   "source": [
    "with open('hourly_site_list.pkl', 'rb') as f:\n",
    "    _hourly_site_list = pickle.load(f)"
   ]
  },
  {
   "cell_type": "code",
   "execution_count": 9,
   "id": "ce6e43ee",
   "metadata": {},
   "outputs": [
    {
     "data": {
      "text/plain": [
       "['US-Cop', 'US-Ne3', 'US-Ha1', 'US-Ne1', 'US-MMS', 'US-PFa', 'US-Ne2']"
      ]
     },
     "execution_count": 9,
     "metadata": {},
     "output_type": "execute_result"
    }
   ],
   "source": [
    "_hourly_site_list"
   ]
  }
 ],
 "metadata": {
  "kernelspec": {
   "display_name": "Python 3 (ipykernel)",
   "language": "python",
   "name": "python3"
  },
  "language_info": {
   "codemirror_mode": {
    "name": "ipython",
    "version": 3
   },
   "file_extension": ".py",
   "mimetype": "text/x-python",
   "name": "python",
   "nbconvert_exporter": "python",
   "pygments_lexer": "ipython3",
   "version": "3.7.16"
  }
 },
 "nbformat": 4,
 "nbformat_minor": 5
}
